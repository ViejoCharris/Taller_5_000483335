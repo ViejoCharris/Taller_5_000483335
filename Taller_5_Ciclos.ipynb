{
  "nbformat": 4,
  "nbformat_minor": 0,
  "metadata": {
    "colab": {
      "provenance": [],
      "authorship_tag": "ABX9TyPUUlIdodOES5ALmjz5slFI",
      "include_colab_link": true
    },
    "kernelspec": {
      "name": "python3",
      "display_name": "Python 3"
    },
    "language_info": {
      "name": "python"
    }
  },
  "cells": [
    {
      "cell_type": "markdown",
      "metadata": {
        "id": "view-in-github",
        "colab_type": "text"
      },
      "source": [
        "<a href=\"https://colab.research.google.com/github/charrisgamer/Taller_5_000483335/blob/main/Taller_5_Ciclos.ipynb\" target=\"_parent\"><img src=\"https://colab.research.google.com/assets/colab-badge.svg\" alt=\"Open In Colab\"/></a>"
      ]
    },
    {
      "cell_type": "markdown",
      "source": [
        "# Taller_5_Ciclos\n",
        "## Curso de programacion y algorirmia UPB 202320\n",
        "- Nombre: Walter Charris\n",
        "- ID: 000483335\n",
        "- Email: walter.charris@upb.edu.co"
      ],
      "metadata": {
        "id": "6NsO6BRFOdnn"
      }
    },
    {
      "cell_type": "code",
      "source": [
        "# Escribe un programa en Python que solicite al usuario un número entero positivo n y luego imprima los primeros n números naturales usando un ciclo while#\n",
        "n = float(int(input(\"Ingrese un número entero positivo diferente de 0: \")))\n",
        "\n",
        "if n <= 0:\n",
        "    print(\"DIJE POSITIVO Y DIFERENTE DE 0\")\n",
        "else:\n",
        "    actual = 1\n",
        "\n",
        "    while actual <= n:\n",
        "        print(actual)\n",
        "        actual += 1"
      ],
      "metadata": {
        "colab": {
          "base_uri": "https://localhost:8080/"
        },
        "id": "ehYpj-jGOh-3",
        "outputId": "cc271dc2-6d92-4954-b398-89087146a437"
      },
      "execution_count": null,
      "outputs": [
        {
          "output_type": "stream",
          "name": "stdout",
          "text": [
            "Ingrese un número entero positivo diferente de 0: 3\n",
            "1\n",
            "2\n",
            "3\n"
          ]
        }
      ]
    },
    {
      "cell_type": "code",
      "source": [
        "# Escribe un programa en Python que calcule la suma de todos los números pares del 1 al 100 utilizando un ciclo for#\n",
        "suma = 0\n",
        "\n",
        "for numero in range(1, 101):\n",
        "    if numero % 2 == 0:\n",
        "        suma += numero\n",
        "\n",
        "print(\"La suma de los números pares del 1 al 100 es\", suma)"
      ],
      "metadata": {
        "colab": {
          "base_uri": "https://localhost:8080/"
        },
        "id": "lx2HQzRyPIz1",
        "outputId": "95fcbc78-fc71-43c1-ee7a-35eba71b69ed"
      },
      "execution_count": null,
      "outputs": [
        {
          "output_type": "stream",
          "name": "stdout",
          "text": [
            "La suma de los números pares del 1 al 100 es 2550\n"
          ]
        }
      ]
    },
    {
      "cell_type": "code",
      "source": [
        "# Escribe un programa en Python que imprima el siguiente patrón u;lizando ciclos anidados#\n",
        "filas = int(input(\"Ingrese la cantidad de filas para el patrón: \"))\n",
        "\n",
        "for bucle1 in range(1, filas + 1):\n",
        "    for bucle2 in range(1, bucle1 + 1):\n",
        "        print(bucle2, end=\"\")\n",
        "    print()"
      ],
      "metadata": {
        "colab": {
          "base_uri": "https://localhost:8080/"
        },
        "id": "G35zvwE6eSsw",
        "outputId": "60ee95f5-9200-48cc-8847-8b1f2c3d6f46"
      },
      "execution_count": null,
      "outputs": [
        {
          "output_type": "stream",
          "name": "stdout",
          "text": [
            "Ingrese la cantidad de filas para el patrón: 5\n",
            "1\n",
            "12\n",
            "123\n",
            "1234\n",
            "12345\n"
          ]
        }
      ]
    },
    {
      "cell_type": "code",
      "source": [
        "#Escribe un programa en Python que solicite al usuario un número entero posi;vo y luego determine si ese número es primo o no utilizando un ciclo while#\n",
        "n = float(int(input(\"Ingrese un número positivo: \")))\n",
        "\n",
        "if n < 0:\n",
        "  print(\"El numero no es positivo\")\n",
        "elif n <= 1:\n",
        "    print(\"El número no es primo.\")\n",
        "else:\n",
        "    div = 0\n",
        "    i = 2\n",
        "    while i <= n // 2:\n",
        "        if n % i == 0:\n",
        "            div += 1\n",
        "        i += 1\n",
        "\n",
        "    if div == 0:\n",
        "        print(\"El número es primo.\")\n",
        "    else:\n",
        "        print(\"El número no es primo.\")"
      ],
      "metadata": {
        "id": "J-jHy7ZWfJli",
        "colab": {
          "base_uri": "https://localhost:8080/"
        },
        "outputId": "caa9771e-3da0-4845-9d05-bfeb9fbd885a"
      },
      "execution_count": 24,
      "outputs": [
        {
          "output_type": "stream",
          "name": "stdout",
          "text": [
            "Ingrese un número positivo: 5\n",
            "El número es primo.\n"
          ]
        }
      ]
    },
    {
      "cell_type": "code",
      "source": [
        "#escribe un programa en Python que incluya un ciclo while que no se detenga hasta que el usuario ingrese \"salir\" como entrada. Dentro del ciclo, permite al usuario realizar operaciones matemá;cas simples como suma, resta, mul;plicación o división\n",
        "while True:\n",
        "    numero1 = float(input(\"Ingresa un número: \"))\n",
        "    numero2 = float(input(\"Ingresa otro número: \"))\n",
        "\n",
        "    operacion = input(\"Elige una operación (+, -, *, /): \")\n",
        "\n",
        "    if operacion == \"+\":\n",
        "        resultado = numero1 + numero2\n",
        "    elif operacion == \"-\":\n",
        "        resultado = numero1 - numero2\n",
        "    elif operacion == \"*\":\n",
        "        resultado = numero1 * numero2\n",
        "    elif operacion == \"/\":\n",
        "\n",
        "        if numero2 != 0:\n",
        "            resultado = numero1 / numero2\n",
        "        else:\n",
        "            print(\"NO SE PUEDE DIVIDIR ENTRE 0\")\n",
        "            continue\n",
        "\n",
        "    print(\"Resultado de la operación:\", resultado)\n",
        "\n",
        "    salir = input(\"Ingresa 'salir' para salir y si quieres continuar ingresa 'continuar': \")\n",
        "    if salir == \"salir\":\n",
        "        break"
      ],
      "metadata": {
        "colab": {
          "base_uri": "https://localhost:8080/"
        },
        "id": "udJ6VnpUgnP7",
        "outputId": "548e655a-30aa-40ba-9dcc-73f2fce3cec5"
      },
      "execution_count": 31,
      "outputs": [
        {
          "name": "stdout",
          "output_type": "stream",
          "text": [
            "Ingresa un número: 14\n",
            "Ingresa otro número: 13\n",
            "Elige una operación (+, -, *, /): /\n",
            "Resultado de la operación: 1.0769230769230769\n",
            "Ingresa 'salir' para salir y si quieres continuar ingresa 'continuar': salir\n"
          ]
        }
      ]
    },
    {
      "cell_type": "code",
      "source": [
        "#escribe un programa en Python que imprima los números del 1 al número ingresado por el usuario, en orden descendente u;lizando un ciclo for y la función range()#\n",
        "numero = int(input(\"Ingrese un número: \"))\n",
        "\n",
        "for numero in range(numero, 0, -1):\n",
        "    print(numero)"
      ],
      "metadata": {
        "colab": {
          "base_uri": "https://localhost:8080/"
        },
        "id": "QCW3ChHdhgu7",
        "outputId": "821fe013-e69e-4a6f-82ed-9e338143e96c"
      },
      "execution_count": 34,
      "outputs": [
        {
          "output_type": "stream",
          "name": "stdout",
          "text": [
            "Ingrese un número: 6\n",
            "6\n",
            "5\n",
            "4\n",
            "3\n",
            "2\n",
            "1\n"
          ]
        }
      ]
    },
    {
      "cell_type": "code",
      "source": [
        "#Escribe un programa en Python que imprima la secuencia de números de Fibonacci hasta un valor dado n u;lizando un ciclo while#\n",
        "n = int(input(\"Ingrese el valor máximo: \"))\n",
        "\n",
        "numero1, numero2 = 0, 1\n",
        "\n",
        "while numero1 <= n:\n",
        "    print(numero1)\n",
        "    numero1, numero2 = numero2, numero1 + numero2"
      ],
      "metadata": {
        "colab": {
          "base_uri": "https://localhost:8080/"
        },
        "id": "xf933qMYjAfC",
        "outputId": "20c33f79-af1d-448b-e083-c507d256c5c9"
      },
      "execution_count": 37,
      "outputs": [
        {
          "output_type": "stream",
          "name": "stdout",
          "text": [
            "Ingrese el valor máximo: 14\n",
            "0\n",
            "1\n",
            "1\n",
            "2\n",
            "3\n",
            "5\n",
            "8\n",
            "13\n"
          ]
        }
      ]
    },
    {
      "cell_type": "code",
      "source": [
        "#Escribe un programa en Python que solicite al usuario un número entero posi;vo y luego calcule la suma de sus dígitos u;lizando un ciclo while#\n",
        "numero = float(int(input(\"Ingrese un número positivo: \")))\n",
        "\n",
        "if numero < 0:\n",
        "    print(\"TIENE QUE SE POSITIVO\")\n",
        "else:\n",
        "    suma = 0\n",
        "\n",
        "    while numero > 0:\n",
        "        digito = numero % 10\n",
        "        suma += digito\n",
        "        numero //= 10\n",
        "\n",
        "    print(\"La suma es:\", suma)"
      ],
      "metadata": {
        "colab": {
          "base_uri": "https://localhost:8080/"
        },
        "id": "roaz11XdkjUQ",
        "outputId": "49702388-f2c6-4f21-f1b3-877604145eaa"
      },
      "execution_count": 41,
      "outputs": [
        {
          "output_type": "stream",
          "name": "stdout",
          "text": [
            "Ingrese un número: 68\n",
            "La suma es: 14.0\n"
          ]
        }
      ]
    },
    {
      "cell_type": "code",
      "source": [
        "#Escribe un programa en Python que solicite al usuario un número entero posi;vo y luego calcule la suma de sus dígitos u;lizando un ciclo while#\n",
        "numero = int(input(\"Ingrese un número positivo: \"))\n",
        "\n",
        "if numero < 0:\n",
        "    print(\"TIENE QUE SER POSITIVO\")\n",
        "else:\n",
        "    suma = 0\n",
        "\n",
        "    while numero > 0:\n",
        "        suma += numero % 10\n",
        "        numero //= 10\n",
        "\n",
        "    print(\"La suma es:\", suma)"
      ],
      "metadata": {
        "colab": {
          "base_uri": "https://localhost:8080/"
        },
        "id": "yevMhB-flGoo",
        "outputId": "2b764da3-f55b-4fc7-a22a-00a2f7848f89"
      },
      "execution_count": 44,
      "outputs": [
        {
          "output_type": "stream",
          "name": "stdout",
          "text": [
            "Ingrese un número positivo: 38\n",
            "La suma es: 11\n"
          ]
        }
      ]
    }
  ]
}